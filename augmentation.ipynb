{
 "cells": [
  {
   "cell_type": "markdown",
   "id": "6f48a072",
   "metadata": {},
   "source": [
    "# Augmentation demo"
   ]
  },
  {
   "cell_type": "markdown",
   "id": "54b4a08e",
   "metadata": {},
   "source": [
    "To utilize code without any change, dataset should be formatted as below:\n",
    "\n",
    "```markdown\n",
    "LABEL    SENTENCE\n",
    "```\n",
    ", which is separated with tab (\\t).\n",
    "\n",
    "Also, last line must be empty-entered."
   ]
  },
  {
   "cell_type": "code",
   "execution_count": 1,
   "id": "d7d515ab",
   "metadata": {},
   "outputs": [
    {
     "name": "stderr",
     "output_type": "stream",
     "text": [
      "[nltk_data] Downloading package omw-1.4 to\n",
      "[nltk_data]     /home/youngerous/nltk_data...\n",
      "[nltk_data]   Package omw-1.4 is already up-to-date!\n",
      "[nltk_data] Downloading package wordnet to\n",
      "[nltk_data]     /home/youngerous/nltk_data...\n",
      "[nltk_data]   Package wordnet is already up-to-date!\n"
     ]
    },
    {
     "data": {
      "text/plain": [
       "True"
      ]
     },
     "execution_count": 1,
     "metadata": {},
     "output_type": "execute_result"
    }
   ],
   "source": [
    "# !pip install -U nltk\n",
    "\n",
    "import nltk\n",
    "nltk.download('omw-1.4')\n",
    "nltk.download('wordnet')"
   ]
  },
  {
   "cell_type": "markdown",
   "id": "cf9baa69",
   "metadata": {},
   "source": [
    "---\n",
    "\n",
    "## 1. EDA\n",
    "\n",
    "- EDA: Easy Data Augmentation Techniques for Boosting Performance on Text Classification Tasks (EMNLP 2019 short)\n",
    "- https://arxiv.org/pdf/1901.11196.pdf\n",
    "- Args:\n",
    "    - **input**: input file of unaugmented data\n",
    "    - **output**: output file of augmented data (default: eda_{input}.txt)\n",
    "    - **num_aug**: number of augmented sentences per original sentence (default: 9)\n",
    "    - **alpha_sr**: percent of words in each sentence to be replaced by **synonyms** (default: 0.1)\n",
    "    - **alpha_ri**: percent of words in each sentence to be **inserted** (default: 0.1)\n",
    "    - **alpha_rs**: percent of words in each sentence to be **swapped** (default: 0.1)\n",
    "    - **alpha_rd**: percent of words in each sentence to be **deleted** (default: 0.1)\n",
    " "
   ]
  },
  {
   "cell_type": "code",
   "execution_count": 2,
   "id": "9d25ed9a",
   "metadata": {},
   "outputs": [
    {
     "name": "stdout",
     "output_type": "stream",
     "text": [
      "generated augmented sentences with eda for sample.txt to eda_sample.txt with num_aug=9\n"
     ]
    }
   ],
   "source": [
    "# run script\n",
    "!python eda_nlp/code/augment.py --input='sample.txt'"
   ]
  },
  {
   "cell_type": "markdown",
   "id": "8387f473",
   "metadata": {},
   "source": [
    "### 1.1. Original samples (sample.txt)\n",
    "\n",
    "```markdown\n",
    "1\tIts clean sheet makes me comfort.\n",
    "1\tIt was the best car!\n",
    "0\tBraking is not that good compared to other models.\n",
    "```\n",
    "\n",
    "### 1.2. Augmented samples (eda_sample.txt)\n",
    "```markdown\n",
    "1\tits makes me comfort\n",
    "1\tits clean makes sheet me comfort\n",
    "1\tits comfort sheet makes me clean\n",
    "1\tits clean sheet information technology makes me comfort\n",
    "1\tits clean sheet makes me\n",
    "1\tits clean sheet makes me information technology comfort\n",
    "1\tits unclouded sheet makes me comfort\n",
    "1\tits clean sheet makes ca ca me comfort\n",
    "1\tits clean sheet makes me ease\n",
    "1\tits clean sheet makes me comfort \n",
    "1\tthe was it best car\n",
    "1\tit was the best railway car\n",
    "1\tit was the best railcar\n",
    "1\tit was the best car\n",
    "1\tit was the best motorcar\n",
    "1\tit was the represent best car\n",
    "1\tit was the best car\n",
    "1\tit secure was the best car\n",
    "1\tit was the car\n",
    "1\tit was the best car \n",
    "0\tbraking is not that good compared to models\n",
    "0\tbraking is not that honorable compared to other models\n",
    "0\tbrake is not that good compared to other models\n",
    "0\tnot that good compared to models\n",
    "0\tbraking is models that good compared to other not\n",
    "0\tthat is not braking good compared to other models\n",
    "0\tbraking is not that good compared to other mannequin models\n",
    "0\tbraking is not that good compared to other\n",
    "0\tbraking is not that good equate to other models\n",
    "0\tbraking is not that good compared to other models\n",
    "```"
   ]
  },
  {
   "cell_type": "markdown",
   "id": "20061fd3",
   "metadata": {},
   "source": [
    "---\n",
    "\n",
    "## 2. AEDA\n",
    "- AEDA: An Easier Data Augmentation Technique for Text Classification (EMNLP 2021 short)\n",
    "- https://arxiv.org/pdf/2108.13230.pdf\n",
    "- Used punctuations: . , ! ? ; :\n",
    "- Args:\n",
    "    - **input**: input file of unaugmented data\n",
    "    - **output**: output file of augmented data (default: aeda_{input}.txt)\n",
    "    - **num_aug**: number of augmented sentences per original sentence (default: 9)\n",
    "    - **punc_ratio**: probability to insert punctuations into sentence (default: 0.3)"
   ]
  },
  {
   "cell_type": "code",
   "execution_count": 3,
   "id": "c7a6e589",
   "metadata": {},
   "outputs": [
    {
     "name": "stdout",
     "output_type": "stream",
     "text": [
      "generated augmented sentences with aeda for sample.txt to aeda_sample.txt with num_aug=9\n"
     ]
    }
   ],
   "source": [
    "# run script\n",
    "!python aeda_nlp/code/aeda.py --input='sample.txt'"
   ]
  },
  {
   "cell_type": "markdown",
   "id": "18362b96",
   "metadata": {},
   "source": [
    "### 2.1. Original samples (sample.txt)\n",
    "\n",
    "```markdown\n",
    "1\tIts clean sheet makes me comfort.\n",
    "1\tIt was the best car!\n",
    "0\tBraking is not that good compared to other models.\n",
    "```\n",
    "\n",
    "### 1.2. Augmented samples (aeda_sample.txt)\n",
    "```markdown\n",
    "1\t! Its clean sheet ; makes me comfort.\n",
    "1\tIts clean ? sheet ! makes me comfort.\n",
    "1\tIts clean sheet makes , me comfort.\n",
    "1\t; Its ! clean sheet makes me comfort.\n",
    "1\tIts clean . sheet makes me comfort.\n",
    "1\tIts clean sheet makes me ! comfort.\n",
    "1\t! Its clean sheet makes ? me comfort.\n",
    "1\tIts ; clean sheet makes ? me comfort.\n",
    "1\tIts clean . sheet makes ; me comfort.\n",
    "1\tIts clean sheet makes me comfort.\n",
    "1\t: It was the best car!\n",
    "1\t! It was the , best car!\n",
    "1\t; It , was the best car!\n",
    "1\tIt ; was the best car!\n",
    "1\t! It was the best ; car!\n",
    "1\t; It was ! the best car!\n",
    "1\tIt was the best ! car!\n",
    "1\tIt was the best ; car!\n",
    "1\t; It was the ? best car!\n",
    "1\tIt was the best car!\n",
    "0\tBraking is not , that , good compared to other models.\n",
    "0\t; Braking is not that good compared to other models.\n",
    "0\t. Braking is not that : good compared to , other models.\n",
    "0\t. Braking is not that good compared to other models.\n",
    "0\tBraking is not that good compared : to ; other ! models.\n",
    "0\tBraking is not ; that good ? compared to other ; models.\n",
    "0\tBraking is not that good compared to : other : models.\n",
    "0\tBraking ; is . not that good ? compared to other models.\n",
    "0\tBraking . is not : that good ! compared to other models.\n",
    "0\tBraking is not that good compared to other models.\n",
    "```"
   ]
  },
  {
   "cell_type": "code",
   "execution_count": null,
   "id": "10eb8f66",
   "metadata": {},
   "outputs": [],
   "source": []
  }
 ],
 "metadata": {
  "kernelspec": {
   "display_name": "Python 3",
   "language": "python",
   "name": "python3"
  },
  "language_info": {
   "codemirror_mode": {
    "name": "ipython",
    "version": 3
   },
   "file_extension": ".py",
   "mimetype": "text/x-python",
   "name": "python",
   "nbconvert_exporter": "python",
   "pygments_lexer": "ipython3",
   "version": "3.6.9"
  }
 },
 "nbformat": 4,
 "nbformat_minor": 5
}
